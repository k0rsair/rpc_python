{
 "cells": [
  {
   "cell_type": "markdown",
   "id": "e5c0f0e1-1ce1-4d98-b7fe-a7ab438f1260",
   "metadata": {},
   "source": [
    "Задание 1 (на сопоставление)"
   ]
  },
  {
   "cell_type": "markdown",
   "id": "667ebbaa-9b6d-428c-974c-4d826ab371a9",
   "metadata": {},
   "source": [
    "1-E, 2-B, 3-F, 4-C,D,G, 5-A,G"
   ]
  },
  {
   "cell_type": "markdown",
   "id": "e8eecee9-8ad7-4f85-9dfa-a58fa415b076",
   "metadata": {},
   "source": [
    "Задание 2 (про порошок)"
   ]
  },
  {
   "cell_type": "markdown",
   "id": "ff500a6f-848e-4254-a8e3-26dcb4b81770",
   "metadata": {},
   "source": [
    "Так как выборка достаточно большая (> 30) и известно стандратное отклонение, используем z-тест\n",
    "Гипотезы:\n",
    "H0 - истинное среднее значение равно 3 кг\n",
    "H1 - истинное среднее значение не равно 3 кг"
   ]
  },
  {
   "cell_type": "code",
   "execution_count": 112,
   "id": "6104ff71-0cfc-4d8b-9b7e-c1e3641b3c87",
   "metadata": {},
   "outputs": [
    {
     "name": "stdout",
     "output_type": "stream",
     "text": [
      "расчетное значение статистики: 2.3570226039551083\n",
      "критическое значение статистики: 1.959963984540054\n",
      "p-value: 0.009211062727050745\n",
      "H1 верна\n",
      "H1 верна\n"
     ]
    }
   ],
   "source": [
    "import numpy as np\n",
    "from scipy import stats\n",
    "        \n",
    "mean = 3.005\n",
    "targetMean = 3\n",
    "std = 0.015\n",
    "n = 50\n",
    "a = 0.05\n",
    "z = (mean - targetMean)/std * np.sqrt(n)\n",
    "print('расчетное значение статистики:',z)\n",
    "zCrit = stats.norm.ppf(1-a/2)\n",
    "print('критическое значение статистики:',zCrit)\n",
    "p = 1-stats.norm.cdf(z)\n",
    "print('p-value:',p)\n",
    "if z > zCrit:\n",
    "   print(\"H1 верна\")\n",
    "else:\n",
    "    print(\"H0 верна\")\n",
    "if p < a:\n",
    "   print(\"H1 верна\")\n",
    "else:\n",
    "    print(\"H0 верна\")\n"
   ]
  },
  {
   "cell_type": "markdown",
   "id": "78c5fcfa-a75f-4631-8ee0-257fd2792756",
   "metadata": {},
   "source": [
    "Статистический вывод: по результату статистической проверки текущей выборки при уровне доверия 95% (100%-5%), отклоняем гипотезу H0.\n",
    "Содержательный вывод: образец предоставляет достаточные доказательства, что истинное среднее значение не равно 3.00 кг и машина требует настройки."
   ]
  },
  {
   "cell_type": "markdown",
   "id": "17ad34a0-cbb3-482a-99d4-253f0b70f05f",
   "metadata": {},
   "source": [
    "Задание 3 (про двигатели)"
   ]
  },
  {
   "cell_type": "markdown",
   "id": "3bae82aa-4861-4b44-a6ef-7d91bf1a9229",
   "metadata": {},
   "source": [
    "Поскольку выборки маленькие, то будем использовать t-test.\n",
    "Гипотезы:\n",
    "H0 - разницы в прочности нет\n",
    "H1 - разница в прочности есть"
   ]
  },
  {
   "cell_type": "code",
   "execution_count": 158,
   "id": "e66ff305-e118-43ba-a3aa-8a652731a0f3",
   "metadata": {},
   "outputs": [],
   "source": [
    "def checkH0H1(statRes,critical,alpha):\n",
    "    print('расчетное значение статистики:', statRes.statistic)\n",
    "    print('критическое значение статистики:', critical)\n",
    "    print('p_value:', statRes.pvalue)\n",
    "    if np.abs(statRes.statistic) > critical:\n",
    "        print(\"H1 верна\")\n",
    "    else:\n",
    "        print(\"H0 верна\")\n",
    "    if statRes.pvalue < alpha:\n",
    "        print(\"H1 верна\")\n",
    "    else:\n",
    "        print(\"H0 верна\")"
   ]
  },
  {
   "cell_type": "code",
   "execution_count": 165,
   "id": "81d6e912-5bf8-4b72-b33f-097e6037d7d4",
   "metadata": {},
   "outputs": [
    {
     "name": "stdout",
     "output_type": "stream",
     "text": [
      "расчетное значение статистики: 2.0786869255946088\n",
      "критическое значение статистики: 2.0686576104190406\n",
      "p_value: 0.04898782133180834\n",
      "H1 верна\n",
      "H1 верна\n"
     ]
    }
   ],
   "source": [
    "nFirst = 15\n",
    "meanFirst = 90\n",
    "stdFirst = 2.3\n",
    "nSecond = 10\n",
    "meanSecond = 88\n",
    "stdSecond = 2.2\n",
    "alpha = 0.05\n",
    "# воспользуемся методом ttest_ind_from_stats библиотеи stats\n",
    "# для проведения t-теста двух независимых образцов, для этого рассчитаем \n",
    "# скорректированное стандартное отклонение: \n",
    "stdFixFirst = stdFirst * np.sqrt(nFirst/(nFirst-1))\n",
    "stdFixSecond = stdSecond * np.sqrt(nSecond/(nSecond-1))\n",
    "\n",
    "statRes = stats.ttest_ind_from_stats(meanFirst, stdFixFirst, nFirst, meanSecond, stdFixSecond, nSecond)\n",
    "# получаем количество степеней свободы: \n",
    "df = nFirst + nSecond - 2 #для т-теста для двух вычитаем отнимаем 2\n",
    "critical = stats.t.ppf(1 - alpha/2, df = df)\n",
    "checkH0H1(statRes,critical,alpha)\n",
    "\n",
    "\n"
   ]
  },
  {
   "cell_type": "markdown",
   "id": "9edcaca7-d020-4fad-8215-72d2becbffb6",
   "metadata": {},
   "source": [
    "Статистический вывод: по данной выборке на уровне уровне доверия 95% мы можем отвергнуть H0.\n",
    "\n",
    "Содержательный вывод: разница между прочностными характеристиками веществ подтверждена."
   ]
  },
  {
   "cell_type": "markdown",
   "id": "ad515879-cb2d-43eb-93ee-d3f6bb4b49d4",
   "metadata": {},
   "source": [
    "Задание 4 (про токи)"
   ]
  },
  {
   "cell_type": "markdown",
   "id": "cfd5ca0b-2a18-4782-876d-b76a620e5ba4",
   "metadata": {},
   "source": [
    "Размер выборки меньше 30, а также сами выборки не связаны друг стругом, поэтому будем использовать t-тест с независимым t-критерием.\n",
    "Гипотезы:\n",
    "H0 - разницы в пропускаемом среднем токе нет\n",
    "H1 - разницы в пропускаемом среднем токе есть"
   ]
  },
  {
   "cell_type": "code",
   "execution_count": 236,
   "id": "f0720b4c-0ce0-43e6-be7a-bdb9d593eefd",
   "metadata": {},
   "outputs": [
    {
     "name": "stdout",
     "output_type": "stream",
     "text": [
      "расчетное значение статистики: -1.8657246011714124\n",
      "критическое значение статистики: 2.085963447265837\n",
      "p_value: 0.07681685091779608\n",
      "H0 верна\n",
      "H0 верна\n"
     ]
    }
   ],
   "source": [
    "x1 = np.array([80.1, 82.3, 84.1, 82.6, 85.3, 81.3, 83.2, 81.7, 82.2, 81.4])\n",
    "x2 = np.array([80.7, 81.3, 84.6, 81.7, 86.3, 84.3, 83.7, 84.7, 82.8, 84.4, 85.2, 84.9])\n",
    "alpha = 0.05\n",
    "statRes = stats.ttest_ind(x1, x2)\n",
    "# рассчитаем критическое значение статистики\n",
    "critical = stats.t.ppf(1 - alpha/2, df = statRes.df)\n",
    "checkH0H1(statRes,critical,alpha)"
   ]
  },
  {
   "cell_type": "markdown",
   "id": "dd46b5c8-1c7b-40bb-a53f-cf581e4ada92",
   "metadata": {},
   "source": [
    "Статистический вывод: по данной выборке на уровне уровне доверия 95% нет оснований отвергнуть H0.\n",
    "Содержательный вывод: подтвердили что можно заменить старый кабель на новый."
   ]
  },
  {
   "cell_type": "markdown",
   "id": "46f3a4d3-149d-45c3-bdae-df806e07bae1",
   "metadata": {},
   "source": [
    "Задание 5 (про глюкозу)\n",
    "\n",
    "Поскольку имеем выборку менее 30, неизвестна дисперсия и при этом сами выборки связаны, будем использовать t-тест с парным критерием\n",
    "\n",
    "Гипотезы:\n",
    "H0 - уровень глюкозы не изменился\n",
    "H1 - уровень глюкозы снизился"
   ]
  },
  {
   "cell_type": "code",
   "execution_count": 238,
   "id": "14596427-0d20-4ffe-8c38-e941fe204a9d",
   "metadata": {},
   "outputs": [
    {
     "name": "stdout",
     "output_type": "stream",
     "text": [
      "расчетное значение статистики: 5.713032381721969\n",
      "критическое значение статистики: 1.8331129326536333\n",
      "p_value: 0.0001447470198376748\n",
      "H1 верна\n",
      "H1 верна\n"
     ]
    }
   ],
   "source": [
    "x1 = np.array([9.6,8.1,8.8,7.9,9.2,8.0,8.4,10.1,7.8,8.1])\n",
    "x2 = np.array([7.7,6.2,7.4,7.5,8.3,6.2,8.1,8.9,7.4,7.0])\n",
    "alpha = 0.05\n",
    "statResult = stats.ttest_rel(x1, x2, alternative='greater')\n",
    "critical = stats.t.ppf(1 - alpha, df = statResult.df)\n",
    "checkH0H1(statResult,critical,alpha)\n"
   ]
  },
  {
   "cell_type": "markdown",
   "id": "fb43803d-2ec1-4752-aa7d-9260a7d8f2fa",
   "metadata": {},
   "source": [
    "Статистический вывод: на имеющихся данных, на уровне доверия 95% есть основания отвергнуть H0.\n",
    "\n",
    "Содержательный вывод: подтверждаем, что новое лекарство более эффективно."
   ]
  },
  {
   "cell_type": "markdown",
   "id": "31d98391-527f-40ec-9212-5765fcec7794",
   "metadata": {},
   "source": [
    "Задание 6 (про тросы)\n",
    "\n",
    "Поскольку выборка меньше 30, неизвестна дисперсия совокупности и сами выборки не связаны друг с другом, используем t-тест с независимым т-критерием.\n",
    "\n",
    "H0 - кабели имеют одинаковую прочность.\n",
    "\n",
    "H1 - новый кабель имеет большую прочность."
   ]
  },
  {
   "cell_type": "code",
   "execution_count": 240,
   "id": "0e3867b6-8f7a-499b-9c16-2708357091f1",
   "metadata": {},
   "outputs": [
    {
     "name": "stdout",
     "output_type": "stream",
     "text": [
      "расчетное значение статистики: 3.120397708249153\n",
      "критическое значение статистики: 2.6274728694881135\n",
      "p_value: 0.0037950235841139484\n",
      "H1 верна\n",
      "H1 верна\n"
     ]
    }
   ],
   "source": [
    "x1 = np.array([92.7, 91.6, 94.7, 93.7, 96.5, 94.3, 93.7, 96.8, 98.9, 99.9])\n",
    "x2 = np.array([90.1, 92.2, 94.3, 92.1, 93.4, 91.1, 93.2, 91.5])\n",
    "alpha = 0.01\n",
    "statResult = stats.ttest_ind(x1, x2, equal_var=False, alternative='greater')\n",
    "critical = stats.t.ppf(1 - alpha, df = statResult.df)\n",
    "checkH0H1(statResult,critical,alpha)\n"
   ]
  },
  {
   "cell_type": "markdown",
   "id": "61ea6ade-4b69-4538-9142-bcfaf472e73c",
   "metadata": {},
   "source": [
    "Статистический вывод: по данной выборке на уровне доверия 99% есть достаточные основания отвергнуть H0.\n",
    "\n",
    "Содержательный вывод: подтверждаем, что новый кабель более прочный."
   ]
  },
  {
   "cell_type": "markdown",
   "id": "c94b6ae2-c1fd-46b1-9dff-6c067dae6ac9",
   "metadata": {},
   "source": [
    "Задание 7 (про абитуриентов)\n",
    "\n",
    "Поскольку размер выборки меньше 30, неизвестна дисперсия, а сами выборки связаны (выборки по одной и той же группе студентов), используем t-тест с парным критерием.\n",
    "\n",
    "Гипотезы:\n",
    "\n",
    "H0 - подготовительные курсы не влияют на подготовку\n",
    "\n",
    "H1 - подготовительные курсы влияют на подготовку положительно\n"
   ]
  },
  {
   "cell_type": "code",
   "execution_count": 249,
   "id": "5226283c-a4f1-44f6-a80d-90a16b8f9796",
   "metadata": {},
   "outputs": [
    {
     "name": "stdout",
     "output_type": "stream",
     "text": [
      "расчетное значение статистики: -2.7386127875258306\n",
      "критическое значение статистики: 2.821437925025808\n",
      "p_value: 0.011449747275884138\n",
      "H0 верна\n",
      "H0 верна\n"
     ]
    }
   ],
   "source": [
    "x1 = np.array([7, 6, 5, 4, 6, 2, 10, 3, 8, 5])\n",
    "x2 = np.array([9, 6, 4, 5, 7, 4, 10, 6, 9, 6])\n",
    "alpha = 0.01\n",
    "statResult = stats.ttest_rel(x1, x2, alternative='less')\n",
    "critical = stats.t.ppf(1 - alpha, df = statResult.df)\n",
    "checkH0H1(statResult,critical,alpha)\n"
   ]
  },
  {
   "cell_type": "markdown",
   "id": "b2a29931-e930-42dc-8da6-5add7006da0c",
   "metadata": {},
   "source": [
    "Статистический вывод: по данной выборке, на уровне доверия 99% нет оснований отвергнуть H0.\n",
    "\n",
    "Содержательный вывод: получили результат, что курсы незначительно влияют на подготовку."
   ]
  },
  {
   "cell_type": "markdown",
   "id": "3457d32d-5ce3-4093-bf60-18cdc0d23a79",
   "metadata": {},
   "source": [
    "Задание 8 (про фрукты и IQ)\n",
    "\n",
    "Так как нам требуется сравнить дисперсии двух выборок, используем F-тест.\n",
    "\n",
    "Гипотезы:\n",
    "\n",
    "H0 - дисперсии выборок отличаются не существенно\n",
    "\n",
    "H1 - дисперсии выборок существенно отличаются"
   ]
  },
  {
   "cell_type": "code",
   "execution_count": 253,
   "id": "a2fa0ca3-f86e-4ce4-9051-3d07abdceeb6",
   "metadata": {},
   "outputs": [
    {
     "name": "stdout",
     "output_type": "stream",
     "text": [
      "расчетное значение статистики: 1.9061769156692807\n",
      "критическое значение статистики: 3.178893104458269\n",
      "H0 верна\n"
     ]
    }
   ],
   "source": [
    "x1 = np.array([125, 138, 112, 130, 124, 125, 110, 112, 117, 126])\n",
    "x2 = np.array([124, 102, 142, 130, 131, 124, 127, 115, 108, 109])\n",
    "alpha = 0.05\n",
    "n = len(itemsFirst)\n",
    "#вычисляем дисперсии\n",
    "\n",
    "d1 = x1.var(ddof=1)\n",
    "d2 = x2.var(ddof=1)\n",
    "if d1 >d2:\n",
    "    fValue = d1/d2\n",
    "else:\n",
    "    fValue = d2/d1\n",
    "\n",
    "critical = stats.f.ppf(1 - alpha, dfn = n-1, dfd = n-1)\n",
    "print('расчетное значение статистики:', fValue)\n",
    "print('критическое значение статистики:', critical)\n",
    "if np.abs(fValue) > fCritical:\n",
    "    print(\"H1 верна\")\n",
    "else:\n",
    "    print(\"H0 верна\")\n"
   ]
  },
  {
   "cell_type": "markdown",
   "id": "d8c7f5f5-61e9-4452-9d83-335ea1490835",
   "metadata": {},
   "source": [
    "Статистический вывод: по данной выборке, на уровне доверия 95% нет оснований отвергнуть H0.\n",
    "\n",
    "Содержательный вывод: получили результат, что дисперсии практически не отличаются."
   ]
  },
  {
   "cell_type": "markdown",
   "id": "7f6c4b09-ad80-4c83-82fb-472272cef69d",
   "metadata": {},
   "source": [
    "Задание 9 (про самолеты)\n",
    "\n",
    "Поскольку событие \"нахождение корабля\" происходит в течение нескольких вылетов, до наступления успеха, распределение может следовать закону Пуассона или геометрическому распределению.\n",
    "\n",
    "Гипотезы:\n",
    "\n",
    "H0 - данные имеют геометрическое распределение\n",
    "\n",
    "H1 - данные распределены как-то иначе"
   ]
  },
  {
   "cell_type": "code",
   "execution_count": 269,
   "id": "d6f044c5-bd38-45a4-a7b8-574bc448650d",
   "metadata": {},
   "outputs": [
    {
     "name": "stdout",
     "output_type": "stream",
     "text": [
      "расчетное значение статистики: -1.8657246011714124\n",
      "критическое значение статистики: 9.487729036781154\n",
      "p_value: 0.35541930503516594\n",
      "H0 верна\n"
     ]
    }
   ],
   "source": [
    "from scipy.stats import chi2\n",
    "\n",
    "x1 = np.array([1, 2, 3, 4, 5, 6, 7, 8, 9])  # нумерация  попыток\n",
    "x2 = np.array([36, 23, 11, 13, 8, 3, 2, 1, 3])  # количество вылетов для каждой попытки\n",
    "N = 100 # Общее количество вылетов\n",
    "alpha = 0.95\n",
    "# Расчет среднего значения (математического ожидания)\n",
    "mean_x1 = np.sum(x1 * x2) / N\n",
    "# Оценка параметра p для геометрического распределения\n",
    "p = 1 / mean_x1\n",
    "# Вычисление теоретических вероятностей для геометрического распределения\n",
    "expected_probabilities = (1 - p) ** (x1 - 1) * p\n",
    "\n",
    "# Ожидаемые частоты\n",
    "expected = N * expected_probabilities\n",
    "\n",
    "# Учет объединения редких событий (если частоты < 5)\n",
    "expected_combined = expected.copy()\n",
    "while any(expected_combined < 5):\n",
    "    # Объединяем последние два элемента\n",
    "    expected_combined[-2] += expected_combined[-1]\n",
    "    x2[-2] += x2_combined[-1]\n",
    "    expected_combined = expected_combined[:-1]\n",
    "    x2 = x2[:-1]\n",
    "# расчет статистики хи-квадрат\n",
    "stat_res = np.sum((x2 - expected_combined) ** 2 / expected_combined)\n",
    "# Степени свободы: (количество групп - 1) - 1 (оценка параметра p)\n",
    "df = len(expected_combined) - 1 - 1\n",
    "# Критическое значение и p-value\n",
    "critical = chi2.ppf(alpha, df)\n",
    "p_value = 1 - chi2.cdf(stat_res, df)\n",
    "\n",
    "print('расчетное значение статистики:', statRes.statistic)\n",
    "print('критическое значение статистики:', critical)\n",
    "print('p_value:', p_value)\n",
    "\n",
    "if stat_res < critical:\n",
    "    print(\"H0 верна\")\n",
    "else:\n",
    "    print(\"H1 верна\")\n",
    "\n"
   ]
  },
  {
   "cell_type": "markdown",
   "id": "e57aa132-5bdf-466e-9cb8-80609fa40220",
   "metadata": {},
   "source": [
    "Статистический вывод: по данной выборке, на уровне доверия 95% нет оснований отвергнуть H0.\n",
    "\n",
    "Содержательный вывод: мы можем считать, что данные распределены геометрически."
   ]
  },
  {
   "cell_type": "markdown",
   "id": "683c7734-8ec4-47f3-a4f9-97a18d46ad53",
   "metadata": {},
   "source": [
    "Задание 10 (про цвет глаз и волос)"
   ]
  },
  {
   "cell_type": "code",
   "execution_count": 277,
   "id": "9b332ef6-d1f6-4f3a-8a67-59a2f50f149d",
   "metadata": {},
   "outputs": [
    {
     "name": "stdout",
     "output_type": "stream",
     "text": [
      "расчетное значение статистики: 0.09615384615384615\n",
      "критическое значение статистики: 9.487729036781154\n",
      "p_value: 0.9988806869095861\n",
      "H0 верна\n",
      "H0 верна\n"
     ]
    }
   ],
   "source": [
    "x1 = np.array([[35, 52, 13], [28, 42, 10], [7, 10, 3]])\n",
    "statResult = stats.chi2_contingency(x1)\n",
    "alpha = 0.05\n",
    "critical = stats.chi2.ppf(1 - alpha, df=(x1.shape[0]-1)*(x1.shape[1]-1))\n",
    "checkH0H1(statResult,critical,alpha)"
   ]
  },
  {
   "cell_type": "markdown",
   "id": "68aaa2c2-556f-4cb5-badb-5de52bb0e883",
   "metadata": {},
   "source": [
    "Статистический вывод: по данной выборке, на уровне доверия 95% нет оснований отвергнуть H0.\n",
    "\n",
    "Содержательный вывод: получили результат, что дисперсии практически не отличаются."
   ]
  },
  {
   "cell_type": "markdown",
   "id": "181ab8f2-c071-4803-ad2e-3f10813f0c6a",
   "metadata": {},
   "source": [
    "Задание 11 (про тигров)\n",
    "\n",
    "Для сравнения 4 разных групп лучше всего подходит однофакторный ANOVA.\n",
    "\n",
    "Гипотезы:\n",
    "\n",
    "H0 - средний вес тигров во всех группах одинакова.\n",
    "\n",
    "H1 - средний вес тигров разный в зависимости от корма"
   ]
  },
  {
   "cell_type": "code",
   "execution_count": 312,
   "id": "da071797-ff7a-4b0c-8553-0df933687fe4",
   "metadata": {},
   "outputs": [
    {
     "name": "stdout",
     "output_type": "stream",
     "text": [
      "расчетное значение статистики: -1.8657246011714124\n",
      "p_value: 2.5927802386467297e-09\n",
      "H1 верна\n",
      "Tukey's HSD Pairwise Group Comparisons (95.0% Confidence Interval)\n",
      "Comparison  Statistic  p-value  Lower CI  Upper CI\n",
      " (0 - 1)     21.500     0.000    10.981    32.019\n",
      " (0 - 2)     -5.857     0.458   -16.376     4.662\n",
      " (0 - 3)     16.857     0.000     6.338    27.376\n",
      " (1 - 0)    -21.500     0.000   -32.019   -10.981\n",
      " (1 - 2)    -27.357     0.000   -37.876   -16.838\n",
      " (1 - 3)     -4.643     0.647   -15.162     5.876\n",
      " (2 - 0)      5.857     0.458    -4.662    16.376\n",
      " (2 - 1)     27.357     0.000    16.838    37.876\n",
      " (2 - 3)     22.714     0.000    12.195    33.233\n",
      " (3 - 0)    -16.857     0.000   -27.376    -6.338\n",
      " (3 - 1)      4.643     0.647    -5.876    15.162\n",
      " (3 - 2)    -22.714     0.000   -33.233   -12.195\n",
      "\n"
     ]
    }
   ],
   "source": [
    "from statsmodels.stats.multicomp import pairwise_tukeyhsd\n",
    "#данные по группам\n",
    "x1 = [151, 135, 137, 118, 132, 135, 131, 121, 137, 140, 152, 133, 151, 132]\n",
    "x2 = [108, 123, 145, 103, 110, 124, 116, 108, 104, 130, 106, 105, 114, 108]\n",
    "x3 = [140, 152, 149, 132, 124, 146, 156, 137, 124, 145, 147, 139, 157, 139]\n",
    "x4 = [127, 135, 110, 116, 119, 123, 102, 121, 118, 120, 114, 134, 121, 109]\n",
    "statResult = stats.f_oneway(x1, x2, x3, x4)\n",
    "alpha = 0.05\n",
    "\n",
    "print('расчетное значение статистики:', statRes.statistic)\n",
    "print('p_value:', statResult.pvalue)\n",
    "if statResult.pvalue < alpha:\n",
    "    print(\"H1 верна\")\n",
    "    res_tykey = stats.tukey_hsd(x1,x2,x3,x4)\n",
    "    print(res_tykey)\n",
    "else:\n",
    "    print(\"H0 верна\")\n"
   ]
  },
  {
   "cell_type": "markdown",
   "id": "81a5e5fd-3de3-42bc-8212-3fc568bed458",
   "metadata": {},
   "source": [
    "Вывод: по данной выборке, на уровне доверия 95% нет оснований отвергнуть H0.\n",
    "По тесту Тьюки мы увидели, что на уровне доверия 95% различия между средними весами групп, принимавшими корма 1 и 3, а также 2 и 4 - отстутвуют. Если же сравненивать группы тигров в других сочетаниях, существуют значимые отличия."
   ]
  },
  {
   "cell_type": "markdown",
   "id": "2e2b26c8-37a6-41dc-82c5-20e35e44aee0",
   "metadata": {},
   "source": [
    "Задание 12 (про белок)\n",
    "\n",
    "Для сравнения двух связанных факторов лучше подходит двухфакторный тест ANOVA\n",
    "\n",
    "Гипотезы:\n",
    "\n",
    "H0 - влияние наличия потомства и возраста на массу тела отсутствует.\n",
    "\n",
    "H1 - на массу тела влияет наличие потомства и возраст\n"
   ]
  },
  {
   "cell_type": "code",
   "execution_count": 340,
   "id": "f86f1f46-31d1-4529-a3b7-a196dc2a3048",
   "metadata": {},
   "outputs": [
    {
     "name": "stdout",
     "output_type": "stream",
     "text": [
      "                    df      sum_sq    mean_sq      F  PR(>F)\n",
      "C(age)           4.000 2579999.467 644999.867 21.791   0.000\n",
      "C(brood)         1.000   60300.833  60300.833  2.037   0.167\n",
      "C(age):C(brood)  4.000   66029.817  16507.454  0.558   0.696\n",
      "Residual        23.000  680789.600  29599.548    NaN     NaN\n"
     ]
    }
   ],
   "source": [
    "'''Ваш ответ на задание №12\n",
    "- верно указана применяемая статистика и обоснование ее применения\n",
    "- расчет выполнен через последовательные суммы квадратов\n",
    "- получены расчетные значения статистики\n",
    "- получены значения p_value\n",
    "- сделан статистический вывод на основе сравнения p-value и уровня значимости\n",
    "- сделан содержательный вывод по поставленной проблеме'''\n",
    "import pandas as pd\n",
    "from statsmodels.formula.api import ols\n",
    "from statsmodels.stats.anova import anova_lm\n",
    "\n",
    "labels = ['brood','age','weight']\n",
    "items = [[False,'1 year',440],[False,'1 year',438],[False,'1 year',429],[False,'1 year',502],[False,'1 year',602],\n",
    "        [False,'2 years',892],[False,'2 years',868],[False,'2 years',855],[False,'2 years',866],[False,'2 years',932],\n",
    "        [False,'3 years',1575],[False,'3 years',849],[False,'3 years',759],[False,'3 years',1602],[False,'3 years',1327],\n",
    "        [True,'1 yearа',308],[True,'1 yearа',328],[True,'1 yearа',326],[True,'1 yearа',326],[True,'1 yearа',325],\n",
    "        [True,'2 years',737],[True,'2 years',798],[True,'2 years',876],[True,'2 years',810],[True,'2 years',861],\n",
    "        [True,'3+ years',1001],[True,'3+ years',901],[True,'3+ years',958],[True,'3+ years',1032],[True,'3 years',883]\n",
    "        ]\n",
    "data = pd.DataFrame(items,columns=labels)\n",
    "\n",
    "model = ols(\"weight ~ C(age) + C(brood) + C(age):C(brood)\", data=data).fit()\n",
    "# оценим влияние факторов, используя последовательные суммы квадратов (тип 1)\n",
    "anova_results = anova_lm(model, typ=1)\n",
    "print(anova_results)\n"
   ]
  },
  {
   "cell_type": "markdown",
   "id": "ff9c6b12-37ad-41fd-8675-a40f8b3b56d7",
   "metadata": {},
   "source": [
    "Статистический вывод: по данной выборке, на уровне доверия 95% мы можем отвергнуть H0.\n",
    "\n",
    "Содержательный вывод: мы можем быть уверенны, что и наличие выводка и возраст оказывают значительное влияние на массу тела белок."
   ]
  }
 ],
 "metadata": {
  "kernelspec": {
   "display_name": "Python 3 (ipykernel)",
   "language": "python",
   "name": "python3"
  },
  "language_info": {
   "codemirror_mode": {
    "name": "ipython",
    "version": 3
   },
   "file_extension": ".py",
   "mimetype": "text/x-python",
   "name": "python",
   "nbconvert_exporter": "python",
   "pygments_lexer": "ipython3",
   "version": "3.12.4"
  }
 },
 "nbformat": 4,
 "nbformat_minor": 5
}
